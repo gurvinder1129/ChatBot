{
 "cells": [
  {
   "cell_type": "code",
   "execution_count": 19,
   "metadata": {
    "collapsed": true
   },
   "outputs": [],
   "source": [
    "import os\n",
    "import numpy as np\n",
    "import pandas as pd\n",
    "from sklearn.feature_extraction.text import CountVectorizer\n",
    "from sklearn.naive_bayes import MultinomialNB\n",
    "from sklearn.pipeline import Pipeline\n",
    "from sklearn.cross_validation import KFold\n",
    "from sklearn.metrics import confusion_matrix, f1_score"
   ]
  },
  {
   "cell_type": "code",
   "execution_count": 20,
   "metadata": {
    "collapsed": false
   },
   "outputs": [
    {
     "data": {
      "text/html": [
       "<div>\n",
       "<table border=\"1\" class=\"dataframe\">\n",
       "  <thead>\n",
       "    <tr style=\"text-align: right;\">\n",
       "      <th></th>\n",
       "      <th>search</th>\n",
       "      <th>matchword</th>\n",
       "    </tr>\n",
       "  </thead>\n",
       "  <tbody>\n",
       "    <tr>\n",
       "      <th>0</th>\n",
       "      <td>conflict of interest</td>\n",
       "      <td>conflict of interest</td>\n",
       "    </tr>\n",
       "    <tr>\n",
       "      <th>1</th>\n",
       "      <td>performance management</td>\n",
       "      <td>performance management</td>\n",
       "    </tr>\n",
       "    <tr>\n",
       "      <th>2</th>\n",
       "      <td>competencies</td>\n",
       "      <td>competencies</td>\n",
       "    </tr>\n",
       "    <tr>\n",
       "      <th>3</th>\n",
       "      <td>onboarding</td>\n",
       "      <td>onboarding</td>\n",
       "    </tr>\n",
       "    <tr>\n",
       "      <th>4</th>\n",
       "      <td>Interview guide</td>\n",
       "      <td>Interview guide</td>\n",
       "    </tr>\n",
       "  </tbody>\n",
       "</table>\n",
       "</div>"
      ],
      "text/plain": [
       "                   search               matchword\n",
       "0    conflict of interest    conflict of interest\n",
       "1  performance management  performance management\n",
       "2            competencies            competencies\n",
       "3              onboarding              onboarding\n",
       "4         Interview guide         Interview guide"
      ]
     },
     "execution_count": 20,
     "metadata": {},
     "output_type": "execute_result"
    }
   ],
   "source": [
    "df = pd.read_csv(\"data/classifyTokens.csv\",\n",
    "                sep=\",\", names=[\"search\",\"matchword\"],\n",
    "                skiprows=1)\n",
    "data= df\n",
    "df.head()"
   ]
  },
  {
   "cell_type": "code",
   "execution_count": 21,
   "metadata": {
    "collapsed": false
   },
   "outputs": [
    {
     "name": "stdout",
     "output_type": "stream",
     "text": [
      "[u'ng__ i', u'ng__ in', u'ng__ o', u'ng__ of', u'ng__co', u'ng__con', u'ng__ct', u'ng__ct ', u'ng__er', u'ng__ere', u'ng__es', u'ng__est', u'ng__f ', u'ng__f i', u'ng__fl', u'ng__fli', u'ng__ic', u'ng__ict', u'ng__in', u'ng__int', u'ng__li', u'ng__lic', u'ng__nf', u'ng__nfl', u'ng__nt', u'ng__nte', u'ng__of', u'ng__of ', u'ng__on', u'ng__onf', u'ng__re', u'ng__res', u'ng__st', u'ng__t ', u'ng__t o', u'ng__te', u'ng__ter', u'f2__co', u'l2__st', u'f3__co', u'f3__on', u'l3__es', u'l3__st']\n"
     ]
    }
   ],
   "source": [
    "def first_two( str ):\n",
    "    return str[:2]\n",
    "def last_two( str ):\n",
    "    return str[-2:]\n",
    "def first_three( str ):\n",
    "    return str[:3]\n",
    "def last_three( str ):\n",
    "    return str[-3:]\n",
    "    \n",
    "\n",
    "from sklearn.pipeline import Pipeline, FeatureUnion\n",
    "from sklearn.feature_extraction.text import CountVectorizer\n",
    "ngram_vectorizer = CountVectorizer(analyzer='char_wb', ngram_range=(2, 3), preprocessor=None, min_df=1)\n",
    "first_two_vectorizer = CountVectorizer(analyzer='char_wb', ngram_range=(2,2),preprocessor=first_two )\n",
    "last_two_vectorizer = CountVectorizer(analyzer='char_wb', ngram_range=(2,2),preprocessor=last_two)\n",
    "first_three_vectorizer = CountVectorizer(analyzer='char_wb',ngram_range=(2,2),preprocessor=first_three )\n",
    "last_three_vectorizer = CountVectorizer(analyzer='char_wb', ngram_range=(2,2),preprocessor=last_three)\n",
    "\n",
    "combined_features = FeatureUnion([(\"ng\",ngram_vectorizer), (\"f2\",first_two_vectorizer),(\"l2\",last_two_vectorizer),(\"f3\",first_three_vectorizer),(\"l3\",last_three_vectorizer)])\n",
    "combined_features.fit(['conflict of interest'])\n",
    "#print(ngram_vectorizer.get_feature_names())\n",
    "print(combined_features.get_feature_names())\n"
   ]
  },
  {
   "cell_type": "code",
   "execution_count": 22,
   "metadata": {
    "collapsed": false
   },
   "outputs": [],
   "source": [
    "dsearch=df.search.tolist()\n",
    "dmatchword=df.matchword.tolist()\n",
    "\n",
    "\n",
    "\n",
    "\n",
    "\n",
    "from sklearn.linear_model import SGDClassifier\n",
    "text_clf = Pipeline([('features', combined_features),\n",
    "                     \n",
    "                     ('clf', SGDClassifier(loss='log', penalty='l2',\n",
    "                                           alpha=1e-3, n_iter=72,\n",
    "                                           random_state=42))\n",
    "])\n",
    "\n",
    "_ = text_clf.fit(dsearch, dmatchword)\n",
    "                     \n",
    "\n",
    "   "
   ]
  },
  {
   "cell_type": "code",
   "execution_count": 33,
   "metadata": {
    "collapsed": false
   },
   "outputs": [
    {
     "name": "stdout",
     "output_type": "stream",
     "text": [
      "0.797146517514\n",
      "['conflict of interest']\n"
     ]
    }
   ],
   "source": [
    "val = \"conflict interest\"\n",
    "t = text_clf.predict_proba([val])\n",
    "test_val = t.max()\n",
    "print test_val\n",
    "result = text_clf.predict([val])\n",
    "ans = result.tolist()\n",
    "flag = ''.join(ans)\n",
    "print result\n",
    "#text_clf.predict(\"caboshed\")"
   ]
  },
  {
   "cell_type": "code",
   "execution_count": null,
   "metadata": {
    "collapsed": true
   },
   "outputs": [],
   "source": []
  },
  {
   "cell_type": "code",
   "execution_count": null,
   "metadata": {
    "collapsed": true
   },
   "outputs": [],
   "source": []
  }
 ],
 "metadata": {
  "kernelspec": {
   "display_name": "Python [Root]",
   "language": "python",
   "name": "Python [Root]"
  },
  "language_info": {
   "codemirror_mode": {
    "name": "ipython",
    "version": 2
   },
   "file_extension": ".py",
   "mimetype": "text/x-python",
   "name": "python",
   "nbconvert_exporter": "python",
   "pygments_lexer": "ipython2",
   "version": "2.7.12"
  }
 },
 "nbformat": 4,
 "nbformat_minor": 0
}
